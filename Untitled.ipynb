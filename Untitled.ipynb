{
 "cells": [
  {
   "cell_type": "markdown",
   "metadata": {},
   "source": [
    "# IQ Test\n",
    "\n",
    "Bob is preparing to pass IQ test. The most frequent task in this test is to find out which one of the given numbers differs from the others. Bob observed that one number usually differs from the others in evenness. Help Bob — to check his answers, he needs a program that among the given numbers finds one that is different in evenness, and return a position of this number.\n",
    "\n",
    "! Keep in mind that your task is to help Bob solve a real IQ test, which means indexes of the elements start from 1 (not 0)\n",
    "\n",
    "###  Examples :\n",
    "\n",
    "```\n",
    "iq_test(\"2 4 7 8 10\") => 3 // Third number is odd, while the rest of the numbers are even\n",
    "\n",
    "iq_test(\"1 2 1 1\") => 2 // Second number is even, while the rest of the numbers are odd\n",
    "\n",
    "```"
   ]
  },
  {
   "cell_type": "code",
   "execution_count": 5,
   "metadata": {},
   "outputs": [
    {
     "name": "stdout",
     "output_type": "stream",
     "text": [
      "Enter number separated by spaces19 1 21 1 1 45 49 25 50 35 35 1 17 1 29 1 29 35 13\n",
      "List of numbers:  ['19', '1', '21', '1', '1', '45', '49', '25', '50', '35', '35', '1', '17', '1', '29', '1', '29', '35', '13']\n",
      "[1, 1, 1, 1, 1, 1, 1, 1, 0, 1, 1, 1, 1, 1, 1, 1, 1, 1, 1]\n",
      "The odd number position 9\n"
     ]
    }
   ],
   "source": [
    "num1 = input(\"Enter number separated by spaces\")\n",
    "num1=num1.split(\" \")\n",
    "print(\"List of numbers: \",num1)\n",
    "\n",
    "\n",
    "x= [int(i)%2 for i in num1]\n",
    "print(x)\n",
    "if (x).count(1) == 1:\n",
    "    print(\"The even number position\",x.index(1)+1)\n",
    "else:\n",
    "    print(\"The odd number position\",x.index(0)+1)"
   ]
  },
  {
   "cell_type": "code",
   "execution_count": null,
   "metadata": {},
   "outputs": [],
   "source": []
  }
 ],
 "metadata": {
  "kernelspec": {
   "display_name": "Python 3",
   "language": "python",
   "name": "python3"
  },
  "language_info": {
   "codemirror_mode": {
    "name": "ipython",
    "version": 3
   },
   "file_extension": ".py",
   "mimetype": "text/x-python",
   "name": "python",
   "nbconvert_exporter": "python",
   "pygments_lexer": "ipython3",
   "version": "3.8.2"
  }
 },
 "nbformat": 4,
 "nbformat_minor": 4
}
